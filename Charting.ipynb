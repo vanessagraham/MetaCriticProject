{
 "cells": [
  {
   "cell_type": "code",
   "execution_count": 13,
   "id": "cddac0da-31c4-4864-8e7e-fea46f80db69",
   "metadata": {},
   "outputs": [],
   "source": [
    "# grab credentials for SQL login from a json file to not leak data\n",
    "import json\n",
    "\n",
    "with open('/Users/vanes/ThisPC/Documents/GitHub/credentials.json') as f:\n",
    "    data = json.load(f)\n",
    "    username = data['username'] \n",
    "    password = data['password'] "
   ]
  },
  {
   "cell_type": "code",
   "execution_count": 14,
   "id": "4ef550b2-2f92-4326-a47e-04bfa2effe5c",
   "metadata": {},
   "outputs": [],
   "source": [
    "# connect jupyter notebook to SQL server\n",
    "import pyodbc\n",
    "\n",
    "conn2 = pyodbc.connect(\"Driver={SQL Server};\"\n",
    "                       \"Server=FALCON-HQ\\SQLEXPRESS;\"\n",
    "                       \"Database=DA320;\"\n",
    "                       \"Trusted_Connection=yes;\"\n",
    "                       \"UID\" + username + \";\"\n",
    "                       \"PWD\" + password)"
   ]
  },
  {
   "cell_type": "code",
   "execution_count": 22,
   "id": "c06e4e7d-04ef-4a31-884d-fdc58a928fb5",
   "metadata": {},
   "outputs": [
    {
     "name": "stdout",
     "output_type": "stream",
     "text": [
      "[(2020, 62), (2019, 62), (2018, 62), (2017, 62), (2016, 60), (2015, 58), (2014, 56), (2013, 56), (2012, 57), (2011, 57), (2010, 57)]\n"
     ]
    }
   ],
   "source": [
    "# importing sql query into jupyter notebook \n",
    "cursor = conn2.cursor()\n",
    "sql = \"SELECT YEAR(release_date), AVG(score) FROM MetacriticMovies WHERE YEAR(release_date) BETWEEN 2010 AND 2020 GROUP BY YEAR(release_date) ORDER BY YEAR(release_date) desc\" \n",
    "cursor.execute(sql)\n",
    "rows = cursor.fetchall()\n",
    "print(rows) "
   ]
  },
  {
   "cell_type": "code",
   "execution_count": 24,
   "id": "d3e63014-7235-498a-bc9c-8a26b982c935",
   "metadata": {},
   "outputs": [
    {
     "data": {
      "text/plain": [
       "Text(0, 0.5, 'Average Score')"
      ]
     },
     "execution_count": 24,
     "metadata": {},
     "output_type": "execute_result"
    },
    {
     "data": {
      "image/png": "[encoded data removed]",
      "text/plain": [
       "<Figure size 432x288 with 1 Axes>"
      ]
     },
     "metadata": {
      "needs_background": "light"
     },
     "output_type": "display_data"
    }
   ],
   "source": [
    "# import library for charting\n",
    "import matplotlib.pyplot as plt\n",
    "\n",
    "# create histogram\n",
    "for row in rows: \n",
    "    plt.plot(row[0], row[1], 'o')\n",
    "    \n",
    "# label histogram \n",
    "plt.title('Average Movie Score per Year')\n",
    "plt.xlabel('Year')\n",
    "plt.ylabel('Average Score')"
   ]
  },
  {
   "cell_type": "markdown",
   "id": "682905d9-863d-4a09-899e-fe4f896eabba",
   "metadata": {},
   "source": [
    "# add some text segments to Jupyter describing the question you ask\n",
    "The question the I ended up with was: \"What is the average movie score per year between 2010 and 2020?\" I chose this question after querying the database several times and found an interesting trend. The average for every year was within 6 metacrtic points and the trend of the last four years was the same score. It seemed interesting. \n",
    "\n",
    "My original ideas for charting were around wanting to do a density plot for the wordcount in the description for each movie. I wanted to plot the numbers per year. After a lot of failed attempts this turned out to be overly ambitious for what I know of coding. It's an idea that I really like and I think I will try to implement something similar with a database project I am attempting to work on in my free time. "
   ]
  },
  {
   "cell_type": "markdown",
   "id": "3cda420e-d681-476b-aaa8-435c654650cf",
   "metadata": {},
   "source": [
    "# add some text after the chart showing your thoughts about the result\n",
    "My thoughts about the data didn't really change after seeing the graph but I believe it does show the data very well. \n",
    "I thought the trending that showed was very interesting. From 2010-2012 the score remained stagnant with a score of 57. From 2013-2014 the score went down to 56 points, from then on it was a sharp incline in score in 2015-2017, where it then stagnated again where the score stayed at 62 from 2017-2020. \n",
    "\n",
    "Some ideas I had for why this may have occured is that perhaps there was an abundance of movies released in 2013-2014 which drive the quality down. Perhaps it was the other way around, and the years with the higher scorees were the years that more movies were released. Another possible reason could be that the years of higher scores, more specifically in recent years, could have been years that popular large franhises released more movies, such as Marvel Studios. "
   ]
  },
  {
   "cell_type": "code",
   "execution_count": null,
   "id": "1fa3af7a-f6c4-4f2f-a15a-4039dc95d33c",
   "metadata": {},
   "outputs": [],
   "source": []
  }
 ],
 "metadata": {
  "kernelspec": {
   "display_name": "Python 3 (ipykernel)",
   "language": "python",
   "name": "python3"
  },
  "language_info": {
   "codemirror_mode": {
    "name": "ipython",
    "version": 3
   },
   "file_extension": ".py",
   "mimetype": "text/x-python",
   "name": "python",
   "nbconvert_exporter": "python",
   "pygments_lexer": "ipython3",
   "version": "3.8.12"
  }
 },
 "nbformat": 4,
 "nbformat_minor": 5
}
