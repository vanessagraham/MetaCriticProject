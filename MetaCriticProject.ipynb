{
 "cells": [
  {
   "cell_type": "code",
   "execution_count": 1,
   "id": "96dbafb1-4ea0-4ec9-b283-facfa744e02d",
   "metadata": {},
   "outputs": [],
   "source": [
    "#!/usr/bin/env python3"
   ]
  },
  {
   "cell_type": "code",
   "execution_count": 15,
   "id": "306de55a-ba16-4d29-bcbc-af8c3a3dbb00",
   "metadata": {},
   "outputs": [
    {
     "name": "stdout",
     "output_type": "stream",
     "text": [
      "Fetched 512826 characters from https://www.metacritic.com/browse/movies/score/metascore/year/filtered?year_selected=2019&sort=desc&view=detailed (status: 200)\n"
     ]
    }
   ],
   "source": [
    "# import module for retrieving info from webpage\n",
    "import urllib3\n",
    "\n",
    "# contact python\n",
    "http = urllib3.PoolManager()\n",
    "\n",
    "# grab data for top 2019 movies from metacritic.com\n",
    "url = 'https://www.metacritic.com/browse/movies/score/metascore/year/filtered?year_selected=2019&sort=desc&view=detailed'\n",
    "\n",
    "# request info from meta critic by spoofing as browser\n",
    "# credit to Sav Bell information on how to get around meta critic security \n",
    "resp = http.request('GET', url, headers={'User-Agent': 'Mozilla/5.0'})\n",
    "\n",
    "# decode raw data to usable information \n",
    "webtext = resp.data.decode('utf-8')\n",
    "\n",
    "# check success \n",
    "print(f\"Fetched {len(webtext)} characters from {url} (status: {resp.status})\")"
   ]
  },
  {
   "cell_type": "code",
   "execution_count": 27,
   "id": "41e18cfa-b9f7-449b-bd77-5f8f5b3bbba9",
   "metadata": {},
   "outputs": [
    {
     "name": "stdout",
     "output_type": "stream",
     "text": [
      "['Parasite', 'Portrait of a Lady on Fire', 'The Irishman', 'Marriage Story', 'Apocalypse Now: Final Cut', 'The Souvenir', 'Little Women', 'Uncut Gems', '63 Up', 'For Sama', 'The Farewell', \"Long Day's Journey Into Night\", 'Apollo 11', 'The Body Remembers When the World Broke Open', 'Pain and Glory', 'Genèse (Genesis)', 'Diane', 'An Elephant Sitting Still', 'Rolling Thunder Revue: A Bob Dylan Story by Martin Scorsese', 'One Cut of the Dead', 'Black Mother', 'The Wild Pear Tree', 'American Factory', 'Honeyland', 'Birds of Passage', 'Atlantics', 'Varda by Agnès', 'Ash Is Purest White', 'One Child Nation', 'Booksmart', 'Toy Story 4', 'In My Room', 'Synonyms', 'The Last Black Man in San Francisco', 'The Ground Beneath My Feet', 'Once Upon a Time ... in Hollywood', 'The Cave', 'The Lighthouse', 'Rosie', 'Roll Red Roll', 'Cunningham', 'Toni Morrison: The Pieces I Am', 'Wrestle', 'Relaxer', 'Transit', 'Maiden', 'Carmine Street Guitars', 'Socrates', 'Knives Out', 'Angels Are Made of Light', 'Give Me Liberty', 'Invisible Life', 'I Do Not Care If We Go Down in History as Barbarians', 'Midnight Family', 'In Fabric', 'Us', 'Shadow', 'The Edge of Democracy', 'I Lost My Body', 'Chinese Portrait', '17 Blocks', 'Woman at War', 'Ford v Ferrari', 'The Chambermaid', 'Ray & Liz', 'The Proposal', 'Western Stars', 'Waves', 'Knock Down the House', 'Fiddler: A Miracle of Miracles', 'End of the Century', 'Making Waves: The Art of Cinematic Sound', 'Wild Rose', 'Ad Astra', 'Babylon', 'A Beautiful Day in the Neighborhood', 'Firecrackers', 'David Crosby: Remember My Name', 'Aquarela', 'Light From Light', 'Too Late to Die Young', 'All Is Well', 'Mickey and the Bear', 'Working Woman', 'Funan', 'Gloria Bell', 'Hotel by the River', 'Donbass', 'Midnight Traveler', 'Chained for Life', 'Celebration', 'Hustlers', 'Styx', '3 Faces', 'Holiday', 'Love, Antosha', 'Monos', 'High Flying Bird', 'Diego Maradona', 'Avengers: Endgame']\n"
     ]
    },
    {
     "ename": "NameError",
     "evalue": "name 'x' is not defined",
     "output_type": "error",
     "traceback": [
      "\u001b[1;31m---------------------------------------------------------------------------\u001b[0m",
      "\u001b[1;31mNameError\u001b[0m                                 Traceback (most recent call last)",
      "\u001b[1;32m~\\AppData\\Local\\Temp/ipykernel_19632/1617623277.py\u001b[0m in \u001b[0;36m<module>\u001b[1;34m\u001b[0m\n\u001b[0;32m     15\u001b[0m \u001b[0mprint\u001b[0m\u001b[1;33m(\u001b[0m\u001b[0mtitles\u001b[0m\u001b[1;33m)\u001b[0m\u001b[1;33m\u001b[0m\u001b[1;33m\u001b[0m\u001b[0m\n\u001b[0;32m     16\u001b[0m \u001b[1;33m\u001b[0m\u001b[0m\n\u001b[1;32m---> 17\u001b[1;33m \u001b[0mprint\u001b[0m\u001b[1;33m(\u001b[0m\u001b[1;34mf\"Found {len(x)} matches. The first match is {x[0]}\"\u001b[0m\u001b[1;33m)\u001b[0m\u001b[1;33m\u001b[0m\u001b[1;33m\u001b[0m\u001b[0m\n\u001b[0m",
      "\u001b[1;31mNameError\u001b[0m: name 'x' is not defined"
     ]
    }
   ],
   "source": [
    "# import module for regular expressions \n",
    "import re\n",
    "\n",
    "# use regular expressions to search for titles, dates, descriptions, metascores, and thumbnails \n",
    "# credit to Alex Song for sharing how they fixed issues with regular expressions being read in python \n",
    "titles = re.findall(\"class=\\\"title\\\"><h3>(.*)<\\/h3>\", webtext)\n",
    "dates = re.findall(\"class=\\\"clamp-details\\\">\\n\\s+<span>(.*)<\\/\", webtext)\n",
    "descriptions = re.findall(\"class=\\\"summary\\\">\\n\\s+(.*)\", webtext)\n",
    "metascores = re.findall(\"class=\\\"metascore_w large movie positive\\\">(.*)<\", webtext)\n",
    "# credit to Braydon Gemar for the thumbnail portion of the regular expressions. I had trouble with the one I produced working.\n",
    "thumbnails = re.findall('<a href=\"\\S+ src=\"(.*)\" alt=\"(?!Metacritic logo\")', webtext)\n",
    "                        \n",
    "                        \n",
    "# show retrieved info \n",
    "print(titles)\n",
    "\n",
    "print(f\"Found {len(x)} matches. The first match is {x[0]}\")"
   ]
  },
  {
   "cell_type": "code",
   "execution_count": null,
   "id": "c564d5ee-84f8-421c-9f01-5a630d2c5b80",
   "metadata": {},
   "outputs": [],
   "source": []
  }
 ],
 "metadata": {
  "kernelspec": {
   "display_name": "Python 3 (ipykernel)",
   "language": "python",
   "name": "python3"
  },
  "language_info": {
   "codemirror_mode": {
    "name": "ipython",
    "version": 3
   },
   "file_extension": ".py",
   "mimetype": "text/x-python",
   "name": "python",
   "nbconvert_exporter": "python",
   "pygments_lexer": "ipython3",
   "version": "3.9.7"
  }
 },
 "nbformat": 4,
 "nbformat_minor": 5
}
