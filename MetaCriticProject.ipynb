{
 "cells": [
  {
   "cell_type": "code",
   "execution_count": 1,
   "id": "96dbafb1-4ea0-4ec9-b283-facfa744e02d",
   "metadata": {},
   "outputs": [],
   "source": [
    "#!/usr/bin/env python3"
   ]
  },
  {
   "cell_type": "code",
   "execution_count": 11,
   "id": "306de55a-ba16-4d29-bcbc-af8c3a3dbb00",
   "metadata": {},
   "outputs": [
    {
     "name": "stdout",
     "output_type": "stream",
     "text": [
      "Fetched 512826 characters from https://www.metacritic.com/browse/movies/score/metascore/year/filtered?year_selected=2019&sort=desc&view=detailed (status: 200)\n"
     ]
    }
   ],
   "source": [
    "# import module for retrieving info from webpage\n",
    "import urllib3\n",
    "\n",
    "# contact python\n",
    "http = urllib3.PoolManager()\n",
    "\n",
    "url = 'https://www.metacritic.com/browse/movies/score/metascore/year/filtered?year_selected=2019&sort=desc&view=detailed'\n",
    "\n",
    "# request info from meta critic by spoofing as browser\n",
    "# credit to Sav Bell information on how to get around meta critic security \n",
    "resp = http.request('GET', url, headers={'User-Agent': 'Mozilla/5.0'})\n",
    "\n",
    "# decode raw data to usable information \n",
    "webtext = resp.data.decode('utf-8')\n",
    "\n",
    "# check success \n",
    "print(f\"Fetched {len(webtext)} characters from {url} (status: {resp.status})\")"
   ]
  },
  {
   "cell_type": "code",
   "execution_count": 14,
   "id": "41e18cfa-b9f7-449b-bd77-5f8f5b3bbba9",
   "metadata": {},
   "outputs": [
    {
     "ename": "SyntaxError",
     "evalue": "invalid syntax (Temp/ipykernel_19632/1436976676.py, line 5)",
     "output_type": "error",
     "traceback": [
      "\u001b[1;36m  File \u001b[1;32m\"C:\\Users\\vanes\\AppData\\Local\\Temp/ipykernel_19632/1436976676.py\"\u001b[1;36m, line \u001b[1;32m5\u001b[0m\n\u001b[1;33m    titles = re.findall(\"class=\"title\"><h3>(.*)<\\/h3>\", webtext)\u001b[0m\n\u001b[1;37m                                ^\u001b[0m\n\u001b[1;31mSyntaxError\u001b[0m\u001b[1;31m:\u001b[0m invalid syntax\n"
     ]
    }
   ],
   "source": [
    "# import module for regular expressions \n",
    "import re\n",
    "\n",
    "# use regular expressions to search for titles, dates, descriptions, metascores, and thumbnails \n",
    "titles = re.findall(\"class=\"title\"><h3>(.*)<\\/h3>\", webtext)\n",
    "dates = re.findall(\"class=\"clamp-details\">\\n\\s+<span>(.*)<\\/\", webtext)\n",
    "descriptions = re.findall(\"class=\"summary\">\\n\\s+(.*)\", webtext)\n",
    "metascores = re.findall(\"class=\"metascore_w large movie positive\">(.*)<\", webtext)\n",
    "thumbnails = re.findall(\"<a href=\"\\/movie\\/(?:.*)\"><img src=\"(.*)\"\", webtext)\n",
    "\n",
    "# show retrieved info \n",
    "print(titles)\n",
    "\n",
    "print(f\"Found {len(x)} matches. The first match is {x[0]}\")"
   ]
  },
  {
   "cell_type": "code",
   "execution_count": null,
   "id": "c564d5ee-84f8-421c-9f01-5a630d2c5b80",
   "metadata": {},
   "outputs": [],
   "source": []
  }
 ],
 "metadata": {
  "kernelspec": {
   "display_name": "Python 3 (ipykernel)",
   "language": "python",
   "name": "python3"
  },
  "language_info": {
   "codemirror_mode": {
    "name": "ipython",
    "version": 3
   },
   "file_extension": ".py",
   "mimetype": "text/x-python",
   "name": "python",
   "nbconvert_exporter": "python",
   "pygments_lexer": "ipython3",
   "version": "3.9.7"
  }
 },
 "nbformat": 4,
 "nbformat_minor": 5
}
