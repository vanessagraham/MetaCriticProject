{
 "cells": [
  {
   "cell_type": "code",
   "execution_count": 45,
   "id": "82955840-4347-498c-b111-227bfc8d576e",
   "metadata": {},
   "outputs": [],
   "source": [
    "import json \n",
    "\n",
    "# retrieve password and connection string\n",
    "with open('/Users/vanes/ThisPC/Documents/GitHub/credentials.json') as f: \n",
    "    data = json.load(f)\n",
    "    mongo_conn_str = data['mongodb']"
   ]
  },
  {
   "cell_type": "code",
   "execution_count": 46,
   "id": "695985ff-e675-4192-a859-e67254929588",
   "metadata": {},
   "outputs": [
    {
     "name": "stdout",
     "output_type": "stream",
     "text": [
      "{'host': 'nosqldb-shard-00-02.uczse.mongodb.net:27017', 'version': '4.4.10', 'process': 'mongod', 'pid': 2130, 'uptime': 395483.0, 'uptimeMillis': 395482231, 'uptimeEstimate': 395482, 'localTime': datetime.datetime(2021, 12, 15, 8, 17, 18, 97000), 'asserts': {'regular': 0, 'warning': 0, 'msg': 0, 'user': 0, 'rollovers': 0}, 'connections': {'current': 52, 'available': 448, 'totalCreated': 90}, 'extra_info': {'note': 'fields vary by platform', 'page_faults': 0}, 'network': {'bytesIn': 51388828, 'bytesOut': 17598242, 'numRequests': 6888}, 'opcounters': {'insert': 449, 'query': 293, 'update': 0, 'delete': 0, 'getmore': 0, 'command': 6127, 'deprecated': {'query': 0, 'getmore': 0}}, 'opcountersRepl': {'insert': 0, 'query': 0, 'update': 0, 'delete': 0, 'getmore': 0, 'command': 0, 'deprecated': {'query': 0, 'getmore': 0}}, 'repl': {'topologyVersion': {'processId': ObjectId('61b39bb370943c0422bf687f'), 'counter': 6}, 'hosts': ['nosqldb-shard-00-00.uczse.mongodb.net:27017', 'nosqldb-shard-00-01.uczse.mongodb.net:27017', 'nosqldb-shard-00-02.uczse.mongodb.net:27017'], 'setName': 'atlas-13txvs-shard-0', 'setVersion': 6, 'ismaster': True, 'secondary': False, 'primary': 'nosqldb-shard-00-02.uczse.mongodb.net:27017', 'tags': {'region': 'US_WEST', 'nodeType': 'ELECTABLE', 'workloadType': 'OPERATIONAL', 'provider': 'AZURE'}, 'me': 'nosqldb-shard-00-02.uczse.mongodb.net:27017', 'electionId': ObjectId('7fffffff0000000000000068'), 'lastWrite': {'opTime': {'ts': Timestamp(1639556237, 6), 't': 104}, 'lastWriteDate': datetime.datetime(2021, 12, 15, 8, 17, 17), 'majorityOpTime': {'ts': Timestamp(1639556237, 6), 't': 104}, 'majorityWriteDate': datetime.datetime(2021, 12, 15, 8, 17, 17)}, 'rbid': 2}, 'storageEngine': {'name': 'wiredTiger', 'supportsCommittedReads': True, 'oldestRequiredTimestampForCrashRecovery': Timestamp(1639556220, 4), 'supportsPendingDrops': True, 'dropPendingIdents': 0, 'supportsTwoPhaseIndexBuild': True, 'supportsSnapshotReadConcern': True, 'readOnly': False, 'persistent': True, 'backupCursorOpen': False}, 'mem': {'bits': 64, 'resident': 0, 'virtual': 0, 'supported': True, 'mapped': 0, 'mappedWithJournal': 0}, 'metrics': {'aggStageCounters': {'search': 0, 'searchBeta': 0}, 'atlas': {'connectionPool': {'totalCreated': 45275}}}, 'ok': 1.0, '$clusterTime': {'clusterTime': Timestamp(1639556237, 6), 'signature': {'hash': b'\\xad4\\xc7\\xc8E\\x7f\\xd2\"\\xcf\\x80\\xfd\\xf7\\xfb\\xf2t\\xc1\\x82^\\x88L', 'keyId': 7005984948549058561}}, 'operationTime': Timestamp(1639556237, 6), 'opLatencies': {'reads': {'latency': 36068384, 'ops': 835}, 'writes': {'latency': 16703833, 'ops': 449}, 'commands': {'latency': 55219001806, 'ops': 5574}}, 'atlasVersion': {'version': '20211202.0.0.1638213056', 'gitVersion': 'ef0b9135a55ff437262ea111b3f103664c758ab9'}}\n"
     ]
    }
   ],
   "source": [
    "import pymongo\n",
    "\n",
    "# connect to mongodb, database, and verify connection\n",
    "client = pymongo.MongoClient(mongo_conn_str)\n",
    "db = client.admin\n",
    "serverStatusResult=db.command(\"serverStatus\")\n",
    "print(serverStatusResult)"
   ]
  },
  {
   "cell_type": "code",
   "execution_count": 47,
   "id": "d9cbd71d-b2b7-4336-b504-a096c824371a",
   "metadata": {},
   "outputs": [
    {
     "name": "stdout",
     "output_type": "stream",
     "text": [
      "{'_id': Binary(b'\\x92\\xed\\xd9\\xfbu\\xe1\\x97@\\xa2\\nH\\xd6\\x86\\xd2c\\xc6', 3), 'owner_id': Binary(b'\\xdae~\\x84\\xce\\xd7[J\\xa9\\xc4A\\x89\\x1a\\xdci\\x12', 3), 'name': 'Cooper', 'species': 'Cat', 'breed': 'unspecified', 'gender': 'M', 'birthday': datetime.datetime(2017, 9, 7, 3, 50, 51, 907000)}\n"
     ]
    }
   ],
   "source": [
    "# connect to petsitters database\n",
    "db = client[\"Petsitters\"] \n",
    "\n",
    "# connect to pets collection\n",
    "pets = db[\"Pets\"]\n",
    "\n",
    "# record query \n",
    "query = {'name' : 'Cooper'}\n",
    "cat = pets.find_one(query) \n",
    "print(cat)"
   ]
  },
  {
   "cell_type": "code",
   "execution_count": 48,
   "id": "1c760769-2b92-497c-929b-b7d1ea479749",
   "metadata": {},
   "outputs": [
    {
     "name": "stdout",
     "output_type": "stream",
     "text": [
      "{'_id': Binary(b'\\x80I\\xe2\\x19\\\\\\xf1\\xfeA\\xae\\xa2\\x86#U\\xa6\\x96u', 3), 'owner_id': Binary(b'\\xc5c\\xd2\\xd6Q\\xa4oI\\xb3\\xd7$\\xef\\xf2\\xa5\\x95\\xf8', 3), 'name': 'Coco', 'species': 'Dog', 'breed': 'unspecified', 'gender': 'F', 'birthday': datetime.datetime(2012, 12, 16, 4, 50, 51, 906000)}\n"
     ]
    }
   ],
   "source": [
    "# record second query for funsies \n",
    "query = {'name' : 'Coco', 'species' : 'Dog', 'gender' : 'F'} \n",
    "dog = pets.find_one(query) \n",
    "print(dog)"
   ]
  },
  {
   "cell_type": "code",
   "execution_count": 49,
   "id": "69be41e8-f2a4-48ce-9e92-f88a7ed90ff0",
   "metadata": {},
   "outputs": [
    {
     "name": "stdout",
     "output_type": "stream",
     "text": [
      "{'_id': Binary(b'WYH\\x9c!0\\xd0D\\xa4\\xc8w\\x8d!\\xff[\\x96', 3), 'owner_id': Binary(b'~\\xff\\xd3d-\\x16\\x9bJ\\xb0\\xbbC\\xbc\\x06\\x14\\xfb\\x88', 3), 'name': 'Hunter', 'species': 'Bird', 'breed': 'unspecified', 'gender': 'M', 'birthday': datetime.datetime(2018, 12, 8, 4, 50, 51, 906000)}\n"
     ]
    }
   ],
   "source": [
    "# third query because why not\n",
    "query = {'name' : 'Hunter', 'species' : 'Bird'}\n",
    "bird = pets.find_one(query) \n",
    "print(bird) "
   ]
  },
  {
   "cell_type": "code",
   "execution_count": null,
   "id": "0cbc296a-f593-4af4-9cae-4ca10f0b1de4",
   "metadata": {},
   "outputs": [],
   "source": []
  },
  {
   "cell_type": "code",
   "execution_count": null,
   "id": "d29ce955-d200-4df5-b4a7-ef9e6bd47a6c",
   "metadata": {},
   "outputs": [],
   "source": []
  }
 ],
 "metadata": {
  "kernelspec": {
   "display_name": "Python 3 (ipykernel)",
   "language": "python",
   "name": "python3"
  },
  "language_info": {
   "codemirror_mode": {
    "name": "ipython",
    "version": 3
   },
   "file_extension": ".py",
   "mimetype": "text/x-python",
   "name": "python",
   "nbconvert_exporter": "python",
   "pygments_lexer": "ipython3",
   "version": "3.8.12"
  }
 },
 "nbformat": 4,
 "nbformat_minor": 5
}
