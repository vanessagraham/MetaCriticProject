{
 "cells": [
  {
   "cell_type": "code",
   "execution_count": 1,
   "id": "4f6f4f4c-93c7-454b-9a43-8ed5f50cd0dc",
   "metadata": {},
   "outputs": [
    {
     "name": "stdout",
     "output_type": "stream",
     "text": [
      "Hello, world!\n"
     ]
    }
   ],
   "source": [
    "print(\"Hello, world!\")"
   ]
  },
  {
   "cell_type": "code",
   "execution_count": 1,
   "id": "4b486d53-83bb-4c01-ba33-fa042157d1b5",
   "metadata": {},
   "outputs": [
    {
     "name": "stdout",
     "output_type": "stream",
     "text": [
      "Done loading.\n"
     ]
    }
   ],
   "source": [
    "import json\n",
    "\n",
    "with open('/Users/vanes/ThisPC/Documents/GitHub/teds-secrets.json') as f:\n",
    "    data = json.load(f)\n",
    "    message = data['message']\n",
    "    print(\"Done loading.\")"
   ]
  },
  {
   "cell_type": "code",
   "execution_count": 7,
   "id": "9e167a5e-aa4e-4da6-acbe-ef9acfceb181",
   "metadata": {},
   "outputs": [],
   "source": [
    "import os"
   ]
  },
  {
   "cell_type": "code",
   "execution_count": 8,
   "id": "e7b7628e-d45c-4bf9-8ad4-7d2c94315197",
   "metadata": {},
   "outputs": [
    {
     "data": {
      "text/plain": [
       "'C:\\\\Users\\\\vanes\\\\ThisPC\\\\Documents\\\\Github\\\\MetaCriticProject'"
      ]
     },
     "execution_count": 8,
     "metadata": {},
     "output_type": "execute_result"
    }
   ],
   "source": [
    "os.getcwd()"
   ]
  },
  {
   "cell_type": "code",
   "execution_count": 9,
   "id": "3198bc34-02a7-411b-85a6-924d8df2a286",
   "metadata": {},
   "outputs": [],
   "source": [
    "os.chdir('C:\\\\Users\\\\vanes\\\\ThisPC\\\\Documents\\\\GitHub')"
   ]
  },
  {
   "cell_type": "code",
   "execution_count": 1,
   "id": "00032e90-e3c8-42e1-aee9-6fbc4427a43d",
   "metadata": {},
   "outputs": [
    {
     "name": "stdout",
     "output_type": "stream",
     "text": [
      "Fetched 348 characters from http://webcode.me (status: 200)\n"
     ]
    }
   ],
   "source": [
    "import urllib3\n",
    "\n",
    "http = urllib3.PoolManager()\n",
    "\n",
    "url = 'http://webcode.me'\n",
    "\n",
    "resp = http.request('GET', url)\n",
    "webtext = resp.data.decode('utf-8')\n",
    "print(f\"Fetched {len(webtext)} characters from {url} (status: {resp.status})\")"
   ]
  },
  {
   "cell_type": "code",
   "execution_count": 8,
   "id": "b2d2fd70-f980-45b0-8145-822e77aa53f3",
   "metadata": {},
   "outputs": [
    {
     "name": "stdout",
     "output_type": "stream",
     "text": [
      "Found 2 matches. The first match is \n",
      "        Today is a beautiful day. We go swimming and fishing.\n",
      "    \n"
     ]
    }
   ],
   "source": [
    "import re\n",
    "\n",
    "x = re.findall(\"<p>([\\S\\s.]*?)<\\/p>\", webtext)\n",
    "print(f\"Found {len(x)} matches. The first match is {x[0]}\")"
   ]
  },
  {
   "cell_type": "code",
   "execution_count": null,
   "id": "abea0b44-7bec-49f0-ac1a-c4eba04fd302",
   "metadata": {},
   "outputs": [],
   "source": []
  }
 ],
 "metadata": {
  "kernelspec": {
   "display_name": "Python 3 (ipykernel)",
   "language": "python",
   "name": "python3"
  },
  "language_info": {
   "codemirror_mode": {
    "name": "ipython",
    "version": 3
   },
   "file_extension": ".py",
   "mimetype": "text/x-python",
   "name": "python",
   "nbconvert_exporter": "python",
   "pygments_lexer": "ipython3",
   "version": "3.8.12"
  }
 },
 "nbformat": 4,
 "nbformat_minor": 5
}
