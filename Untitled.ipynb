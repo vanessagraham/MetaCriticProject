{
 "cells": [
  {
   "cell_type": "code",
   "execution_count": 3,
   "id": "45b77508-3bf3-47b2-90d0-1cce82776c85",
   "metadata": {},
   "outputs": [
    {
     "name": "stdout",
     "output_type": "stream",
     "text": [
      "403\n",
      "421\n"
     ]
    }
   ],
   "source": [
    "import urllib3\n",
    "\n",
    "link = \"https://www.metacritic.com/browse/movies/score/metascore/year/filtered\"\n",
    "\n",
    "# Construct a python request pool\n",
    "http = urllib3.PoolManager()\n",
    "\n",
    "# Initiate a web request\n",
    "r = http.request('GET', link)\n",
    "\n",
    "# Convert the result from raw bytes to text\n",
    "datastring = str(r.data, \"utf-8\") \n",
    "\n",
    "# Check whether it succeeded and how much data we got from the site\n",
    "print(r.status)\n",
    "print(len(datastring))\n",
    "\n"
   ]
  },
  {
   "cell_type": "code",
   "execution_count": null,
   "id": "b81efb38-9d79-4090-9a03-eed9b4a2fb74",
   "metadata": {},
   "outputs": [],
   "source": []
  },
  {
   "cell_type": "code",
   "execution_count": null,
   "id": "0105da70-ad90-446f-8b5c-6d66ac2e9b1e",
   "metadata": {},
   "outputs": [],
   "source": []
  }
 ],
 "metadata": {
  "kernelspec": {
   "display_name": "Python 3 (ipykernel)",
   "language": "python",
   "name": "python3"
  },
  "language_info": {
   "codemirror_mode": {
    "name": "ipython",
    "version": 3
   },
   "file_extension": ".py",
   "mimetype": "text/x-python",
   "name": "python",
   "nbconvert_exporter": "python",
   "pygments_lexer": "ipython3",
   "version": "3.9.7"
  }
 },
 "nbformat": 4,
 "nbformat_minor": 5
}
